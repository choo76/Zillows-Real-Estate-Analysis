{
 "cells": [
  {
   "cell_type": "markdown",
   "metadata": {},
   "source": [
    "# Zillows Home Value Index\n",
    "[Zillows Research Data](https://www.zillow.com/research/data/)"
   ]
  },
  {
   "cell_type": "code",
   "execution_count": 6,
   "metadata": {
    "collapsed": true
   },
   "outputs": [],
   "source": [
    "library(dplyr)\n",
    "library(reshape2)\n",
    "library(data.table)\n",
    "setwd(\"/Users/jtan/Documents/Investment/Zillows-Real-Estate-Analysis\")"
   ]
  },
  {
   "cell_type": "markdown",
   "metadata": {},
   "source": [
    "## ZHVI Time Series Data"
   ]
  },
  {
   "cell_type": "code",
   "execution_count": 7,
   "metadata": {
    "collapsed": true,
    "scrolled": false
   },
   "outputs": [],
   "source": [
    "ZHVI_Zip_data <- fread('http://files.zillowstatic.com/research/public/Zip/Zip_Zhvi_SingleFamilyResidence.csv')\n",
    "ZHVI_Zip_data_TX <- filter(ZHVI_Zip_data, State == 'TX')\n",
    "ZHVI_Zip_data_TX$RegionID <- NULL\n",
    "ZHVI_Zip_data_TX$SizeRank <- NULL\n",
    "ZHVI_Zip_result <- melt(ZHVI_Zip_data_TX, id=c(\"RegionName\",\"City\",\"State\",\"Metro\",\"CountyName\"))\n",
    "colnames(ZHVI_Zip_result)[1] <- \"ZipCode\"\n",
    "colnames(ZHVI_Zip_result)[6] <- \"Date\"\n",
    "colnames(ZHVI_Zip_result)[7] <- \"MedianZHVIPrice_SFR\"\n",
    "ZHVI_Zip_result$Date <- gsub(\"X\", \"\", ZHVI_Zip_result$Date)\n",
    "ZHVI_Zip_result$Date <- gsub(\".\", \"-\", ZHVI_Zip_result$Date, fixed = TRUE)\n",
    "ZHVI_Zip_result$Date <- lapply(ZHVI_Zip_result$Date, function(x) paste(x, \"-01\", sep=\"\"))\n",
    "ZHVI_Zip_SFR <- data.frame(lapply(ZHVI_Zip_result, as.character), stringsAsFactors=FALSE)\n",
    "\n",
    "ZHVI_Zip_data <- fread('http://files.zillowstatic.com/research/public/Zip/Zip_Zhvi_3bedroom.csv')\n",
    "ZHVI_Zip_data_TX <- filter(ZHVI_Zip_data, State == 'TX')\n",
    "ZHVI_Zip_data_TX$RegionID <- NULL\n",
    "ZHVI_Zip_data_TX$SizeRank <- NULL\n",
    "ZHVI_Zip_result <- melt(ZHVI_Zip_data_TX, id=c(\"RegionName\",\"City\",\"State\",\"Metro\",\"CountyName\"))\n",
    "colnames(ZHVI_Zip_result)[1] <- \"ZipCode\"\n",
    "colnames(ZHVI_Zip_result)[6] <- \"Date\"\n",
    "colnames(ZHVI_Zip_result)[7] <- \"MedianZHVIPrice_3BR\"\n",
    "ZHVI_Zip_result$Date <- gsub(\"X\", \"\", ZHVI_Zip_result$Date)\n",
    "ZHVI_Zip_result$Date <- gsub(\".\", \"-\", ZHVI_Zip_result$Date, fixed = TRUE)\n",
    "ZHVI_Zip_result$Date <- lapply(ZHVI_Zip_result$Date, function(x) paste(x, \"-01\", sep=\"\"))\n",
    "ZHVI_Zip_3BR <- data.frame(lapply(ZHVI_Zip_result, as.character), stringsAsFactors=FALSE)\n",
    "\n",
    "ZHVI_Zip_data <- fread('http://files.zillowstatic.com/research/public/Zip/Zip_Zhvi_4bedroom.csv')\n",
    "ZHVI_Zip_data_TX <- filter(ZHVI_Zip_data, State == 'TX')\n",
    "ZHVI_Zip_data_TX$RegionID <- NULL\n",
    "ZHVI_Zip_data_TX$SizeRank <- NULL\n",
    "ZHVI_Zip_result <- melt(ZHVI_Zip_data_TX, id=c(\"RegionName\",\"City\",\"State\",\"Metro\",\"CountyName\"))\n",
    "colnames(ZHVI_Zip_result)[1] <- \"ZipCode\"\n",
    "colnames(ZHVI_Zip_result)[6] <- \"Date\"\n",
    "colnames(ZHVI_Zip_result)[7] <- \"MedianZHVIPrice_4BR\"\n",
    "ZHVI_Zip_result$Date <- gsub(\"X\", \"\", ZHVI_Zip_result$Date)\n",
    "ZHVI_Zip_result$Date <- gsub(\".\", \"-\", ZHVI_Zip_result$Date, fixed = TRUE)\n",
    "ZHVI_Zip_result$Date <- lapply(ZHVI_Zip_result$Date, function(x) paste(x, \"-01\", sep=\"\"))\n",
    "ZHVI_Zip_4BR <- data.frame(lapply(ZHVI_Zip_result, as.character), stringsAsFactors=FALSE)\n",
    "\n",
    "tempo <- merge(ZHVI_Zip_SFR, ZHVI_Zip_3BR, BY=c(\"ZipCode\",\"City\",\"State\",\"Metro\",\"CountyName\",\"Date\"), all.x=TRUE)\n",
    "ZHVI_Zip_Final <- merge(tempo, ZHVI_Zip_4BR, BY=c(\"ZipCode\",\"City\",\"State\",\"Metro\",\"CountyName\",\"Date\"), all.x=TRUE)"
   ]
  },
  {
   "cell_type": "markdown",
   "metadata": {},
   "source": [
    "## ZRI Time Series Data"
   ]
  },
  {
   "cell_type": "code",
   "execution_count": 8,
   "metadata": {
    "collapsed": true
   },
   "outputs": [],
   "source": [
    "ZRI_Zip_data <- fread('http://files.zillowstatic.com/research/public/Zip/Zip_Zri_SingleFamilyResidenceRental.csv')\n",
    "ZRI_Zip_data_TX <- filter(ZRI_Zip_data, State == 'TX')\n",
    "ZRI_Zip_data_TX$RegionID <- NULL\n",
    "ZRI_Zip_data_TX$SizeRank <- NULL\n",
    "ZRI_Zip_result <- melt(ZRI_Zip_data_TX, id=c(\"RegionName\",\"City\",\"State\",\"Metro\",\"CountyName\"))\n",
    "colnames(ZRI_Zip_result)[1] <- \"ZipCode\"\n",
    "colnames(ZRI_Zip_result)[6] <- \"Date\"\n",
    "colnames(ZRI_Zip_result)[7] <- \"MedianZRIPrice_SFR\"\n",
    "ZRI_Zip_result$Date <- gsub(\"X\", \"\", ZRI_Zip_result$Date)\n",
    "ZRI_Zip_result$Date <- gsub(\".\", \"-\", ZRI_Zip_result$Date, fixed = TRUE)\n",
    "ZRI_Zip_result$Date <- lapply(ZRI_Zip_result$Date, function(x) paste(x, \"-01\", sep=\"\"))\n",
    "ZRI_Zip_SFR <- data.frame(lapply(ZRI_Zip_result, as.character), stringsAsFactors=FALSE)\n",
    "\n",
    "ZRI_Zip_data <- fread('http://files.zillowstatic.com/research/public/Zip/Zip_MedianRentalPrice_3Bedroom.csv')\n",
    "ZRI_Zip_data_TX <- filter(ZRI_Zip_data, State == 'TX')\n",
    "ZRI_Zip_data_TX$RegionID <- NULL\n",
    "ZRI_Zip_data_TX$SizeRank <- NULL\n",
    "ZRI_Zip_result <- melt(ZRI_Zip_data_TX, id=c(\"RegionName\",\"City\",\"State\",\"Metro\",\"CountyName\"))\n",
    "colnames(ZRI_Zip_result)[1] <- \"ZipCode\"\n",
    "colnames(ZRI_Zip_result)[6] <- \"Date\"\n",
    "colnames(ZRI_Zip_result)[7] <- \"MedianZRIPrice_3BR\"\n",
    "ZRI_Zip_result$Date <- gsub(\"X\", \"\", ZRI_Zip_result$Date)\n",
    "ZRI_Zip_result$Date <- gsub(\".\", \"-\", ZRI_Zip_result$Date, fixed = TRUE)\n",
    "ZRI_Zip_result$Date <- lapply(ZRI_Zip_result$Date, function(x) paste(x, \"-01\", sep=\"\"))\n",
    "ZRI_Zip_3BR <- data.frame(lapply(ZRI_Zip_result, as.character), stringsAsFactors=FALSE)\n",
    "\n",
    "ZRI_Zip_data <- fread('http://files.zillowstatic.com/research/public/Zip/Zip_MedianRentalPrice_4Bedroom.csv')\n",
    "ZRI_Zip_data_TX <- filter(ZRI_Zip_data, State == 'TX')\n",
    "ZRI_Zip_data_TX$RegionID <- NULL\n",
    "ZRI_Zip_data_TX$SizeRank <- NULL\n",
    "ZRI_Zip_result <- melt(ZRI_Zip_data_TX, id=c(\"RegionName\",\"City\",\"State\",\"Metro\",\"CountyName\"))\n",
    "colnames(ZRI_Zip_result)[1] <- \"ZipCode\"\n",
    "colnames(ZRI_Zip_result)[6] <- \"Date\"\n",
    "colnames(ZRI_Zip_result)[7] <- \"MedianZRIPrice_4BR\"\n",
    "ZRI_Zip_result$Date <- gsub(\"X\", \"\", ZRI_Zip_result$Date)\n",
    "ZRI_Zip_result$Date <- gsub(\".\", \"-\", ZRI_Zip_result$Date, fixed = TRUE)\n",
    "ZRI_Zip_result$Date <- lapply(ZRI_Zip_result$Date, function(x) paste(x, \"-01\", sep=\"\"))\n",
    "ZRI_Zip_4BR <- data.frame(lapply(ZRI_Zip_result, as.character), stringsAsFactors=FALSE)\n",
    "\n",
    "tempo <- merge(ZRI_Zip_SFR, ZRI_Zip_3BR, BY=c(\"ZipCode\",\"City\",\"State\",\"Metro\",\"CountyName\",\"Date\"), all.x=TRUE)\n",
    "ZRI_Zip_Final <- merge(tempo, ZRI_Zip_4BR, BY=c(\"ZipCode\",\"City\",\"State\",\"Metro\",\"CountyName\",\"Date\"), all.x=TRUE)"
   ]
  },
  {
   "cell_type": "markdown",
   "metadata": {},
   "source": [
    "## Final Results"
   ]
  },
  {
   "cell_type": "code",
   "execution_count": 9,
   "metadata": {
    "collapsed": true
   },
   "outputs": [],
   "source": [
    "ZHVI_ZRI_Zip_Result <- merge(ZHVI_Zip_Final, ZRI_Zip_Final, BY=c(\"ZipCode\",\"City\",\"State\",\"Metro\",\"CountyName\",\"Date\"), all.x=TRUE)\n",
    "ZHVI_ZRI_Zip_Result[is.na(ZHVI_ZRI_Zip_Result)] <- 0\n",
    "write.table(ZHVI_ZRI_Zip_Result, file = 'ZHVI_ZRI_Zip_Texas.csv', sep = \",\", col.names = TRUE, row.names = FALSE, quote = FALSE)"
   ]
  }
 ],
 "metadata": {
  "kernelspec": {
   "display_name": "R",
   "language": "R",
   "name": "ir"
  },
  "language_info": {
   "codemirror_mode": "r",
   "file_extension": ".r",
   "mimetype": "text/x-r-source",
   "name": "R",
   "pygments_lexer": "r",
   "version": "3.4.2"
  }
 },
 "nbformat": 4,
 "nbformat_minor": 2
}
