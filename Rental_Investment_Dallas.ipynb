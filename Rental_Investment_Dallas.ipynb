{
 "cells": [
  {
   "cell_type": "markdown",
   "metadata": {},
   "source": [
    "### Best Neighborhood in Frisco\n",
    "https://www.neighborhoodscout.com/tx/frisco\n",
    "\n",
    "https://www.davedowns.com/frisco-tx-neighborhoods.php\n",
    "\n",
    "### Best Neighborhood in McKinney\n",
    "https://www.neighborhoodscout.com/tx/mckinney\n",
    "\n",
    "http://craigranchtexas.com/residences/neighborhoods/\n",
    "\n",
    "### Leading Employers in Plano/Mckinney/Frisco\n",
    "http://www.planotexas.org/133/Leading-Employers\n",
    "\n",
    "http://www.mckinneyedc.com/97/Major-Employers\n",
    "\n",
    "https://www.frisco.com/majoremployers/\n",
    "\n",
    "https://www.dallasnews.com/business/business/2016/07/15/2016-list-dallas-fort-worths-150-largest-public-companies\n",
    "\n",
    "### Legacy West Plano\n",
    "http://legacywest.com\n",
    "\n",
    "### City of Allen\n",
    "http://www.cityofallen.org/DocumentCenter/Home/View/157\n",
    "\n",
    "### Dallas North Real Estate Market Research\n",
    "http://www.homesourcedallas.com/reports/\n",
    "\n",
    "https://www.huduser.gov/portal/publications/pdf/DallasTX-comp-16.pdf\n",
    "\n",
    "### Dallas North Rental Outlook\t\n",
    "https://www.forbes.com/sites/ingowinzer/2016/05/17/should-you-invest-in-dallas-real-estate/#8effea7c52f0\n",
    "\n",
    "https://www.forbes.com/sites/scottbeyer/2016/07/01/the-explosive-northern-growth-of-metro-dallas/#48311673e485\n",
    "\n",
    "https://www.dallasnews.com/business/real-estate/2017/02/06/dallas-one-worlds-top-property-investment-markets-last-year\n",
    "\n",
    "https://www.dallasnews.com/business/real-estate/2017/05/12/not-enough-houses-as-toyota-moves-to-plano\n",
    "\n",
    "https://www.dallasnews.com/business/economy/2016/10/03/north-texas-city-years-fastest-growing-answer-may-surprise\n",
    "\n",
    "https://www.dmagazine.com/commercial-real-estate/2017/01/jll-research-dallas-is-a-money-magnet-for-millennials/\n",
    "\n",
    "https://www.dmagazine.com/publications/d-magazine/2016/july/dallas-real-estate-market-still-hottest-ever/\n",
    "\n",
    "http://starlocalmedia.com/mckinneycouriergazette/news/business-headquarters-abundant-in-north-texas/article_e7d05390-42a9-11e4-9c94-bb250013ee54.html\n",
    "\n",
    "### Fastest Growing Cities\n",
    "https://wallethub.com/edu/fastest-growing-cities/7010/\n",
    "\n",
    "https://www.forbes.com/sites/samanthasharf/2017/02/10/full-list-americas-fastest-growing-cities-2017/#3937b983a36e"
   ]
  },
  {
   "cell_type": "code",
   "execution_count": null,
   "metadata": {
    "collapsed": true
   },
   "outputs": [],
   "source": []
  }
 ],
 "metadata": {
  "kernelspec": {
   "display_name": "R",
   "language": "R",
   "name": "ir"
  },
  "language_info": {
   "codemirror_mode": "r",
   "file_extension": ".r",
   "mimetype": "text/x-r-source",
   "name": "R",
   "pygments_lexer": "r",
   "version": "3.4.2"
  }
 },
 "nbformat": 4,
 "nbformat_minor": 2
}
